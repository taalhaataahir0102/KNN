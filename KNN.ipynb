{
  "cells": [
    {
      "cell_type": "markdown",
      "metadata": {
        "id": "RYrBkQ1cNdPZ"
      },
      "source": [
        "**Installing Packages**"
      ]
    },
    {
      "cell_type": "code",
      "execution_count": null,
      "metadata": {
        "colab": {
          "base_uri": "https://localhost:8080/"
        },
        "id": "62KFIPFoJHj7",
        "outputId": "1a50e7a4-15de-4f9d-e689-abd3dc244b47"
      },
      "outputs": [
        {
          "output_type": "stream",
          "name": "stdout",
          "text": [
            "Looking in indexes: https://pypi.org/simple, https://us-python.pkg.dev/colab-wheels/public/simple/\n",
            "Requirement already satisfied: python_speech_features in /usr/local/lib/python3.8/dist-packages (0.6)\n"
          ]
        }
      ],
      "source": [
        "!pip install python_speech_features"
      ]
    },
    {
      "cell_type": "markdown",
      "metadata": {
        "id": "fqR-YH8LNiqS"
      },
      "source": [
        "**Making Necessary Imports**"
      ]
    },
    {
      "cell_type": "code",
      "execution_count": null,
      "metadata": {
        "colab": {
          "base_uri": "https://localhost:8080/"
        },
        "id": "4PRJvrRpGZp_",
        "outputId": "de325d20-fef0-4f24-fc72-73265193244b"
      },
      "outputs": [
        {
          "output_type": "stream",
          "name": "stderr",
          "text": [
            "[nltk_data] Downloading package stopwords to /root/nltk_data...\n",
            "[nltk_data]   Package stopwords is already up-to-date!\n",
            "[nltk_data] Downloading package punkt to /root/nltk_data...\n",
            "[nltk_data]   Package punkt is already up-to-date!\n"
          ]
        }
      ],
      "source": [
        "import numpy as np\n",
        "import pandas as pd\n",
        "import time\n",
        "import re\n",
        "%matplotlib inline\n",
        "import matplotlib.pyplot as plt\n",
        "plt.style.use('seaborn')\n",
        "from IPython.display import Image\n",
        "import pydot\n",
        "from tqdm import tqdm_notebook\n",
        "import seaborn as sns\n",
        "from keras.datasets import fashion_mnist\n",
        "from sklearn.model_selection import train_test_split\n",
        "from keras.utils import np_utils\n",
        "from sklearn.datasets import make_moons\n",
        "from sklearn.metrics import confusion_matrix,classification_report\n",
        "import math\n",
        "from sklearn.metrics import accuracy_score\n",
        "from sklearn.metrics import f1_score\n",
        "import scipy\n",
        "from statistics import mode\n",
        "from scipy.spatial import distance\n",
        "import nltk\n",
        "from nltk.corpus import stopwords\n",
        "nltk.download('stopwords')\n",
        "nltk.download('punkt')\n",
        "from nltk.corpus import stopwords\n",
        "from nltk.tokenize import word_tokenize\n",
        "import random\n",
        "import collections\n",
        "import os\n",
        "import glob\n",
        "import shutil\n",
        "import python_speech_features as mfcc\n",
        "from scipy.io import wavfile\n",
        "from matplotlib import pyplot as plt\n",
        "from google.colab import drive"
      ]
    },
    {
      "cell_type": "markdown",
      "metadata": {
        "id": "LQ2wJ-KqNpeD"
      },
      "source": [
        "**Loading Mnist Digit dataset**"
      ]
    },
    {
      "cell_type": "code",
      "execution_count": null,
      "metadata": {
        "id": "iQohePNmGlLg"
      },
      "outputs": [],
      "source": [
        "(X_train, y_train), (X_test, y_test) = fashion_mnist.load_data()"
      ]
    },
    {
      "cell_type": "markdown",
      "metadata": {
        "id": "F9HO6LmoNuYv"
      },
      "source": [
        "**Data preprocessing**"
      ]
    },
    {
      "cell_type": "code",
      "execution_count": null,
      "metadata": {
        "id": "msszd5YfvGww"
      },
      "outputs": [],
      "source": [
        "X_train = X_train[0:3000].astype('float32')\n",
        "y_train = y_train[0:3000]\n",
        "X_test = X_test[0:500].astype('float32')\n",
        "y_test = y_test[0:500]\n",
        "X_train /=255\n",
        "X_test /=255"
      ]
    },
    {
      "cell_type": "code",
      "execution_count": null,
      "metadata": {
        "colab": {
          "base_uri": "https://localhost:8080/"
        },
        "id": "eecL5JxTvVK9",
        "outputId": "a3ab0d3f-4ddc-470b-97d1-54cd9fd26804"
      },
      "outputs": [
        {
          "output_type": "stream",
          "name": "stdout",
          "text": [
            "(3000, 28, 28) (3000,) (500, 28, 28) (500,)\n"
          ]
        }
      ],
      "source": [
        "print(X_train.shape,y_train.shape,X_test.shape,y_test.shape)"
      ]
    },
    {
      "cell_type": "markdown",
      "metadata": {
        "id": "YUGUQvBhN3fh"
      },
      "source": [
        "**Manhattan Distance**"
      ]
    },
    {
      "cell_type": "code",
      "execution_count": null,
      "metadata": {
        "id": "4Ck6RDDOHVb2"
      },
      "outputs": [],
      "source": [
        "def diff(x,y):\n",
        "  return sum(sum(abs(np.subtract(x,y))))"
      ]
    },
    {
      "cell_type": "code",
      "execution_count": null,
      "metadata": {
        "id": "y4rhBHv75w_N"
      },
      "outputs": [],
      "source": [
        "def dist_calculator(train,test):\n",
        "  ans = []\n",
        "  for i in test:\n",
        "    a = []\n",
        "    for j in train:\n",
        "      a.append(diff(j,i))\n",
        "    ans.append(a)\n",
        "  return ans"
      ]
    },
    {
      "cell_type": "markdown",
      "metadata": {
        "id": "lty7R0LbOBU6"
      },
      "source": [
        "**KNN Algorithm**"
      ]
    },
    {
      "cell_type": "code",
      "execution_count": null,
      "metadata": {
        "id": "1HmbHRtG2nwd"
      },
      "outputs": [],
      "source": [
        "def KNN(k,train,test,dist):\n",
        "    d = dist(train,test)\n",
        "    m= []\n",
        "    for i in range(len(d)):\n",
        "        sorted_index= np.argsort(d[i])\n",
        "        top_k= sorted_index[0:k]\n",
        "        top_k_label = y_train[top_k]\n",
        "        m.append(mode(top_k_label))\n",
        "    return m"
      ]
    },
    {
      "cell_type": "markdown",
      "metadata": {
        "id": "8v0UWEOlOGIZ"
      },
      "source": [
        "**Predictions**"
      ]
    },
    {
      "cell_type": "code",
      "execution_count": null,
      "metadata": {
        "id": "ferubVJj1g1B"
      },
      "outputs": [],
      "source": [
        "pred = []\n",
        "for i in range(1,11):\n",
        "  pred.append(KNN(i,X_train,X_test,dist_calculator))"
      ]
    },
    {
      "cell_type": "markdown",
      "metadata": {
        "id": "l7af8HqbOKMW"
      },
      "source": [
        "**Results**"
      ]
    },
    {
      "cell_type": "code",
      "execution_count": null,
      "metadata": {
        "id": "p6AoOWjZ8qt4"
      },
      "outputs": [],
      "source": [
        "accuracy = []\n",
        "for i in range(10):\n",
        "  accuracy.append(accuracy_score(y_test,pred[i]))"
      ]
    },
    {
      "cell_type": "code",
      "execution_count": null,
      "metadata": {
        "id": "tVa5oEffBqbT"
      },
      "outputs": [],
      "source": [
        "f1 = []\n",
        "for i in range(10):\n",
        "  f1.append(f1_score(y_test, pred[i],  average='macro'))"
      ]
    },
    {
      "cell_type": "code",
      "execution_count": null,
      "metadata": {
        "colab": {
          "base_uri": "https://localhost:8080/",
          "height": 568
        },
        "id": "Vs5OdM_82248",
        "outputId": "4c996b1f-3269-494f-8fa0-1a614694b362"
      },
      "outputs": [
        {
          "output_type": "display_data",
          "data": {
            "text/plain": [
              "<Figure size 864x576 with 1 Axes>"
            ],
            "image/png": "[encoded data removed]"
          },
          "metadata": {}
        }
      ],
      "source": [
        "barWidth = 0.25\n",
        "fig = plt.subplots(figsize =(12, 8))\n",
        " \n",
        "# Set position of bar on X axis\n",
        "br1 = np.arange(len(accuracy))\n",
        "br2 = [x + barWidth for x in br1]\n",
        "br3 = [x + barWidth for x in br2]\n",
        "\n",
        "# Make the plot\n",
        "plt.bar(br1, accuracy, color ='r', width = 0.15,\n",
        "        edgecolor ='grey', label ='accuracy')\n",
        "\n",
        "plt.bar(br2, f1, color ='g', width = 0.15,\n",
        "        edgecolor ='grey', label ='f1 score')\n",
        " \n",
        "# Adding Xticks\n",
        "plt.xlabel('Value of K', fontweight ='bold', fontsize = 15)\n",
        "plt.ylabel('Accuracy And F1 score', fontweight ='bold', fontsize = 15)\n",
        "plt.xticks([r + barWidth for r in range(len(accuracy))],\n",
        "        ['1', '2', '3', '4', '5', '6', '7', '8', '9', '10'], fontsize=20)\n",
        " \n",
        "\n",
        "plt.legend(prop={'size':15, 'weight':'bold'}, loc='upper center', bbox_to_anchor =(0.50, 1.15), ncol=3, fancybox=True)\n",
        "plt.show()"
      ]
    },
    {
      "cell_type": "markdown",
      "metadata": {
        "id": "NLAYCbTuONd_"
      },
      "source": [
        "**Mounting drive**"
      ]
    },
    {
      "cell_type": "code",
      "execution_count": null,
      "metadata": {
        "colab": {
          "base_uri": "https://localhost:8080/"
        },
        "id": "wd9DIDnKB6r9",
        "outputId": "17f6b1f2-9a03-4c22-9704-0f7cccc4c94f"
      },
      "outputs": [
        {
          "output_type": "stream",
          "name": "stdout",
          "text": [
            "Drive already mounted at /drive; to attempt to forcibly remount, call drive.mount(\"/drive\", force_remount=True).\n"
          ]
        }
      ],
      "source": [
        "drive.mount('/drive')"
      ]
    },
    {
      "cell_type": "markdown",
      "metadata": {
        "id": "YebYy33gOQP2"
      },
      "source": [
        "**Unzipping Dataset**"
      ]
    },
    {
      "cell_type": "code",
      "execution_count": null,
      "metadata": {
        "id": "jRpKTKJmDiqM"
      },
      "outputs": [],
      "source": [
        "!unzip -o -q \"/drive/MyDrive/sentiment analysis/archive.zip\" -d \"/content/data/\""
      ]
    },
    {
      "cell_type": "markdown",
      "metadata": {
        "id": "ZnvcyF90OTwo"
      },
      "source": [
        "**Reading dataset**"
      ]
    },
    {
      "cell_type": "code",
      "execution_count": null,
      "metadata": {
        "id": "EBj6MecXD3xX"
      },
      "outputs": [],
      "source": [
        "data = pd.read_csv('/content/data/SPAM text message 20170820 - Data.csv')"
      ]
    },
    {
      "cell_type": "code",
      "execution_count": null,
      "metadata": {
        "id": "OjUgMN9zLSyf"
      },
      "outputs": [],
      "source": [
        "data = data[data['Category'].notna()]"
      ]
    },
    {
      "cell_type": "code",
      "execution_count": null,
      "metadata": {
        "colab": {
          "base_uri": "https://localhost:8080/",
          "height": 206
        },
        "id": "WOp2cCLhELhs",
        "outputId": "e1a42deb-9f71-49ea-fab9-c35e04f593ef"
      },
      "outputs": [
        {
          "output_type": "execute_result",
          "data": {
            "text/plain": [
              "  Category                                            Message\n",
              "0      ham  Go until jurong point, crazy.. Available only ...\n",
              "1      ham                      Ok lar... Joking wif u oni...\n",
              "2     spam  Free entry in 2 a wkly comp to win FA Cup fina...\n",
              "3      ham  U dun say so early hor... U c already then say...\n",
              "4      ham  Nah I don't think he goes to usf, he lives aro..."
            ],
            "text/html": [
              "\n",
              "  <div id=\"df-091d687b-d3ff-43ed-a468-e54513dbca4d\">\n",
              "    <div class=\"colab-df-container\">\n",
              "      <div>\n",
              "<style scoped>\n",
              "    .dataframe tbody tr th:only-of-type {\n",
              "        vertical-align: middle;\n",
              "    }\n",
              "\n",
              "    .dataframe tbody tr th {\n",
              "        vertical-align: top;\n",
              "    }\n",
              "\n",
              "    .dataframe thead th {\n",
              "        text-align: right;\n",
              "    }\n",
              "</style>\n",
              "<table border=\"1\" class=\"dataframe\">\n",
              "  <thead>\n",
              "    <tr style=\"text-align: right;\">\n",
              "      <th></th>\n",
              "      <th>Category</th>\n",
              "      <th>Message</th>\n",
              "    </tr>\n",
              "  </thead>\n",
              "  <tbody>\n",
              "    <tr>\n",
              "      <th>0</th>\n",
              "      <td>ham</td>\n",
              "      <td>Go until jurong point, crazy.. Available only ...</td>\n",
              "    </tr>\n",
              "    <tr>\n",
              "      <th>1</th>\n",
              "      <td>ham</td>\n",
              "      <td>Ok lar... Joking wif u oni...</td>\n",
              "    </tr>\n",
              "    <tr>\n",
              "      <th>2</th>\n",
              "      <td>spam</td>\n",
              "      <td>Free entry in 2 a wkly comp to win FA Cup fina...</td>\n",
              "    </tr>\n",
              "    <tr>\n",
              "      <th>3</th>\n",
              "      <td>ham</td>\n",
              "      <td>U dun say so early hor... U c already then say...</td>\n",
              "    </tr>\n",
              "    <tr>\n",
              "      <th>4</th>\n",
              "      <td>ham</td>\n",
              "      <td>Nah I don't think he goes to usf, he lives aro...</td>\n",
              "    </tr>\n",
              "  </tbody>\n",
              "</table>\n",
              "</div>\n",
              "      <button class=\"colab-df-convert\" onclick=\"convertToInteractive('df-091d687b-d3ff-43ed-a468-e54513dbca4d')\"\n",
              "              title=\"Convert this dataframe to an interactive table.\"\n",
              "              style=\"display:none;\">\n",
              "        \n",
              "  <svg xmlns=\"http://www.w3.org/2000/svg\" height=\"24px\"viewBox=\"0 0 24 24\"\n",
              "       width=\"24px\">\n",
              "    <path d=\"M0 0h24v24H0V0z\" fill=\"none\"/>\n",
              "    <path d=\"M18.56 5.44l.94 2.06.94-2.06 2.06-.94-2.06-.94-.94-2.06-.94 2.06-2.06.94zm-11 1L8.5 8.5l.94-2.06 2.06-.94-2.06-.94L8.5 2.5l-.94 2.06-2.06.94zm10 10l.94 2.06.94-2.06 2.06-.94-2.06-.94-.94-2.06-.94 2.06-2.06.94z\"/><path d=\"M17.41 7.96l-1.37-1.37c-.4-.4-.92-.59-1.43-.59-.52 0-1.04.2-1.43.59L10.3 9.45l-7.72 7.72c-.78.78-.78 2.05 0 2.83L4 21.41c.39.39.9.59 1.41.59.51 0 1.02-.2 1.41-.59l7.78-7.78 2.81-2.81c.8-.78.8-2.07 0-2.86zM5.41 20L4 18.59l7.72-7.72 1.47 1.35L5.41 20z\"/>\n",
              "  </svg>\n",
              "      </button>\n",
              "      \n",
              "  <style>\n",
              "    .colab-df-container {\n",
              "      display:flex;\n",
              "      flex-wrap:wrap;\n",
              "      gap: 12px;\n",
              "    }\n",
              "\n",
              "    .colab-df-convert {\n",
              "      background-color: #E8F0FE;\n",
              "      border: none;\n",
              "      border-radius: 50%;\n",
              "      cursor: pointer;\n",
              "      display: none;\n",
              "      fill: #1967D2;\n",
              "      height: 32px;\n",
              "      padding: 0 0 0 0;\n",
              "      width: 32px;\n",
              "    }\n",
              "\n",
              "    .colab-df-convert:hover {\n",
              "      background-color: #E2EBFA;\n",
              "      box-shadow: 0px 1px 2px rgba(60, 64, 67, 0.3), 0px 1px 3px 1px rgba(60, 64, 67, 0.15);\n",
              "      fill: #174EA6;\n",
              "    }\n",
              "\n",
              "    [theme=dark] .colab-df-convert {\n",
              "      background-color: #3B4455;\n",
              "      fill: #D2E3FC;\n",
              "    }\n",
              "\n",
              "    [theme=dark] .colab-df-convert:hover {\n",
              "      background-color: #434B5C;\n",
              "      box-shadow: 0px 1px 3px 1px rgba(0, 0, 0, 0.15);\n",
              "      filter: drop-shadow(0px 1px 2px rgba(0, 0, 0, 0.3));\n",
              "      fill: #FFFFFF;\n",
              "    }\n",
              "  </style>\n",
              "\n",
              "      <script>\n",
              "        const buttonEl =\n",
              "          document.querySelector('#df-091d687b-d3ff-43ed-a468-e54513dbca4d button.colab-df-convert');\n",
              "        buttonEl.style.display =\n",
              "          google.colab.kernel.accessAllowed ? 'block' : 'none';\n",
              "\n",
              "        async function convertToInteractive(key) {\n",
              "          const element = document.querySelector('#df-091d687b-d3ff-43ed-a468-e54513dbca4d');\n",
              "          const dataTable =\n",
              "            await google.colab.kernel.invokeFunction('convertToInteractive',\n",
              "                                                     [key], {});\n",
              "          if (!dataTable) return;\n",
              "\n",
              "          const docLinkHtml = 'Like what you see? Visit the ' +\n",
              "            '<a target=\"_blank\" href=https://colab.research.google.com/notebooks/data_table.ipynb>data table notebook</a>'\n",
              "            + ' to learn more about interactive tables.';\n",
              "          element.innerHTML = '';\n",
              "          dataTable['output_type'] = 'display_data';\n",
              "          await google.colab.output.renderOutput(dataTable, element);\n",
              "          const docLink = document.createElement('div');\n",
              "          docLink.innerHTML = docLinkHtml;\n",
              "          element.appendChild(docLink);\n",
              "        }\n",
              "      </script>\n",
              "    </div>\n",
              "  </div>\n",
              "  "
            ]
          },
          "metadata": {},
          "execution_count": 68
        }
      ],
      "source": [
        "data.head()"
      ]
    },
    {
      "cell_type": "code",
      "execution_count": null,
      "metadata": {
        "id": "0VsXXjE0EM7Y"
      },
      "outputs": [],
      "source": [
        "sentence = []\n",
        "for i in data['Message']:\n",
        "    sentence.append(i)\n",
        "label = []\n",
        "for i in data['Category']:\n",
        "    label.append(i)"
      ]
    },
    {
      "cell_type": "markdown",
      "metadata": {
        "id": "BxzV9SCAOaXp"
      },
      "source": [
        "**Cleaning Data**"
      ]
    },
    {
      "cell_type": "code",
      "execution_count": null,
      "metadata": {
        "id": "FYmclk_lIlvr"
      },
      "outputs": [],
      "source": [
        "def cleaner(tweets):\n",
        "  for i in range(len(tweets)):\n",
        "      tweets[i] = re.sub(r'[0-9]', \"\", tweets[i])\n",
        "      tweets[i] = re.sub(r'http\\S+', \"\", tweets[i])\n",
        "      tweets[i] = re.sub(r'#', \"\", tweets[i])\n",
        "      tweets[i] = re.sub(r'@\\S+', \"\", tweets[i])\n",
        "      tweets[i] = re.sub(r'[^\\w\\s]', \"\", tweets[i])\n",
        "      tweets[i] = re.sub(' +', ' ',tweets[i]);\n",
        "      tweets[i] = tweets[i].lower()\n",
        "      tweets[i] = re.sub(r'^\\s+|\\s+$' ,'',tweets[i])\n",
        "      filtered_list = []\n",
        "      stop_words = nltk.corpus.stopwords.words('english')\n",
        "      words = word_tokenize(tweets[i])\n",
        "      for w in words:\n",
        "          if w.lower() not in stop_words:\n",
        "              filtered_list.append(w)\n",
        "      my_clean_txt = \" \".join(filtered_list)\n",
        "      tweets[i] = my_clean_txt"
      ]
    },
    {
      "cell_type": "code",
      "execution_count": null,
      "metadata": {
        "colab": {
          "base_uri": "https://localhost:8080/"
        },
        "id": "BwMCWVkINS8w",
        "outputId": "d071610b-2ec4-4ef0-e9df-d0b490753b44"
      },
      "outputs": [
        {
          "output_type": "stream",
          "name": "stdout",
          "text": [
            "You have an important customer service announcement from PREMIER.\n",
            "important customer service announcement premier\n"
          ]
        }
      ],
      "source": [
        "r = random.randint(0,5570)\n",
        "print(sentence[r])\n",
        "cleaner(sentence)\n",
        "print(sentence[r])"
      ]
    },
    {
      "cell_type": "code",
      "execution_count": null,
      "metadata": {
        "id": "vmLuOM8fCn0Y"
      },
      "outputs": [],
      "source": [
        "X_train = sentence[0:5000]\n",
        "y_train = label[0:5000]\n",
        "X_test = sentence[5001:]\n",
        "y_test = label[5001:]"
      ]
    },
    {
      "cell_type": "markdown",
      "metadata": {
        "id": "uguWcshyOe5g"
      },
      "source": [
        "**Making Vocabulary**"
      ]
    },
    {
      "cell_type": "code",
      "execution_count": null,
      "metadata": {
        "id": "GUegz4BXOtpu"
      },
      "outputs": [],
      "source": [
        "vc1 = []\n",
        "vc2 = []\n",
        "for i in range(len(X_train)):\n",
        "    vc1.append(X_train[i].split())\n",
        "for i in range(len(X_test)):\n",
        "    vc2.append(X_test[i].split())\n",
        "boW = [i for w in vc1 for i in w]\n",
        "vocab= list(set(boW))"
      ]
    },
    {
      "cell_type": "code",
      "execution_count": null,
      "metadata": {
        "colab": {
          "base_uri": "https://localhost:8080/"
        },
        "id": "VmKJ_BJhju-O",
        "outputId": "70d7876e-4113-4154-91e9-1053e356c28e"
      },
      "outputs": [
        {
          "output_type": "execute_result",
          "data": {
            "text/plain": [
              "8011"
            ]
          },
          "metadata": {},
          "execution_count": 74
        }
      ],
      "source": [
        "len(vocab)"
      ]
    },
    {
      "cell_type": "markdown",
      "metadata": {
        "id": "ykWD4IoIOmYZ"
      },
      "source": [
        "**Bag of Words**"
      ]
    },
    {
      "cell_type": "code",
      "execution_count": null,
      "metadata": {
        "id": "yx9XWiLjj0e4"
      },
      "outputs": [],
      "source": [
        "index_word = {}\n",
        "i = 0\n",
        "for word in vocab:\n",
        "    index_word[word] = i \n",
        "    i += 1"
      ]
    },
    {
      "cell_type": "code",
      "execution_count": null,
      "metadata": {
        "id": "M5ZZuW3Gj7-I"
      },
      "outputs": [],
      "source": [
        "def Bag_Of_Words(sentence):\n",
        "    count_dict = collections.defaultdict(int)\n",
        "    f = [0]*len(vocab)\n",
        "    for word in sentence:\n",
        "        if word not in sentence:\n",
        "            continue\n",
        "        count_dict[word] += 1\n",
        "    for key,word in count_dict.items():\n",
        "        if key not in index_word:\n",
        "            continue\n",
        "        f[index_word[key]] = word\n",
        "    return f"
      ]
    },
    {
      "cell_type": "code",
      "execution_count": null,
      "metadata": {
        "id": "1XTH0fCfkHNq"
      },
      "outputs": [],
      "source": [
        "train = []\n",
        "for i in range(len(vc1)):\n",
        "    train.append(Bag_Of_Words(vc1[i]))\n",
        "test = []\n",
        "for i in range(len(vc2)):\n",
        "    test.append(Bag_Of_Words(vc2[i]))"
      ]
    },
    {
      "cell_type": "code",
      "execution_count": null,
      "metadata": {
        "id": "KeEZdMiGkiI5"
      },
      "outputs": [],
      "source": [
        "X_train = np.array(train)\n",
        "y_train = np.array(y_train)\n",
        "X_test = np.array(test)\n",
        "y_test = np.array(y_test)"
      ]
    },
    {
      "cell_type": "code",
      "execution_count": null,
      "metadata": {
        "colab": {
          "base_uri": "https://localhost:8080/"
        },
        "id": "XUL4cN5rkskY",
        "outputId": "c9d4e88f-5f03-409a-c4f7-209dd04e0fe1"
      },
      "outputs": [
        {
          "output_type": "stream",
          "name": "stdout",
          "text": [
            "(5000, 8011)\n",
            "(5000,)\n",
            "(571, 8011)\n",
            "(571,)\n"
          ]
        }
      ],
      "source": [
        "print(X_train.shape)\n",
        "print(y_train.shape)\n",
        "print(X_test.shape)\n",
        "print(y_test.shape)"
      ]
    },
    {
      "cell_type": "markdown",
      "metadata": {
        "id": "7GvjrbUMOqP-"
      },
      "source": [
        "**Euclidean Distance**"
      ]
    },
    {
      "cell_type": "code",
      "execution_count": null,
      "metadata": {
        "id": "1rW4jPJTkuNd"
      },
      "outputs": [],
      "source": [
        "def dist_calculator(train,test):\n",
        "    return distance.cdist(test,train,'euclidean')"
      ]
    },
    {
      "cell_type": "markdown",
      "metadata": {
        "id": "Myrg88eiOv0l"
      },
      "source": [
        "**Predictions**"
      ]
    },
    {
      "cell_type": "code",
      "execution_count": null,
      "metadata": {
        "id": "q1sbDD6Yk337"
      },
      "outputs": [],
      "source": [
        "pred = []\n",
        "for i in range(1,11):\n",
        "  pred.append(KNN(i,X_train,X_test,dist_calculator))"
      ]
    },
    {
      "cell_type": "markdown",
      "metadata": {
        "id": "vAkhYaAyOyfw"
      },
      "source": [
        "**Results**"
      ]
    },
    {
      "cell_type": "code",
      "execution_count": null,
      "metadata": {
        "id": "5-5eNw7zlWQN"
      },
      "outputs": [],
      "source": [
        "accuracy = []\n",
        "for i in range(10):\n",
        "  accuracy.append(accuracy_score(y_test,pred[i]))"
      ]
    },
    {
      "cell_type": "code",
      "execution_count": null,
      "metadata": {
        "id": "6wv-f0tFPgtM"
      },
      "outputs": [],
      "source": [
        "f1 = []\n",
        "for i in range(10):\n",
        "  f1.append(f1_score(y_test, pred[i],  average='macro'))"
      ]
    },
    {
      "cell_type": "code",
      "execution_count": null,
      "metadata": {
        "colab": {
          "base_uri": "https://localhost:8080/",
          "height": 568
        },
        "id": "hvu_PE256BBV",
        "outputId": "9985ae39-491e-4e68-c0e6-11d3a20520e2"
      },
      "outputs": [
        {
          "output_type": "display_data",
          "data": {
            "text/plain": [
              "<Figure size 864x576 with 1 Axes>"
            ],
            "image/png": "[encoded data removed]"
          },
          "metadata": {}
        }
      ],
      "source": [
        "barWidth = 0.25\n",
        "fig = plt.subplots(figsize =(12, 8))\n",
        " \n",
        "# Set position of bar on X axis\n",
        "br1 = np.arange(len(accuracy))\n",
        "br2 = [x + barWidth for x in br1]\n",
        "br3 = [x + barWidth for x in br2]\n",
        "\n",
        "# Make the plot\n",
        "plt.bar(br1, accuracy, color ='r', width = 0.15,\n",
        "        edgecolor ='grey', label ='accuracy')\n",
        "\n",
        "plt.bar(br2, f1, color ='g', width = 0.15,\n",
        "        edgecolor ='grey', label ='f1 score')\n",
        " \n",
        "# Adding Xticks\n",
        "plt.xlabel('Value of K', fontweight ='bold', fontsize = 15)\n",
        "plt.ylabel('Accuracy And F1 score', fontweight ='bold', fontsize = 15)\n",
        "plt.xticks([r + barWidth for r in range(len(accuracy))],\n",
        "        ['1', '2', '3', '4', '5', '6', '7', '8', '9', '10'], fontsize=20)\n",
        " \n",
        "\n",
        "plt.legend(prop={'size':15, 'weight':'bold'}, loc='upper center', bbox_to_anchor =(0.50, 1.15), ncol=3, fancybox=True)\n",
        "plt.show()"
      ]
    },
    {
      "cell_type": "markdown",
      "metadata": {
        "id": "M03YtrD6O1pq"
      },
      "source": [
        "**unzipping**"
      ]
    },
    {
      "cell_type": "code",
      "execution_count": null,
      "metadata": {
        "id": "Iyhqkx86lb89"
      },
      "outputs": [],
      "source": [
        "!unzip -o -q \"/drive/MyDrive/Mnist audio/recordings.zip\" -d \"/content/data/\""
      ]
    },
    {
      "cell_type": "code",
      "execution_count": null,
      "metadata": {
        "id": "s5ytxtGHGYyJ"
      },
      "outputs": [],
      "source": [
        "dataset = []\n",
        "for filename in glob.glob(os.path.join('/content/data/recordings', '*.wav')):\n",
        "  dataset.append(filename)"
      ]
    },
    {
      "cell_type": "code",
      "execution_count": null,
      "metadata": {
        "id": "5mzdm9y4IAvx"
      },
      "outputs": [],
      "source": [
        "random.shuffle(dataset)"
      ]
    },
    {
      "cell_type": "code",
      "execution_count": null,
      "metadata": {
        "id": "Qt03XvmGIkp7"
      },
      "outputs": [],
      "source": [
        "label = []\n",
        "for i in range(len(dataset)):\n",
        "  label.append(int(dataset[i].split('/')[-1].split('_')[0]))"
      ]
    },
    {
      "cell_type": "markdown",
      "metadata": {
        "id": "X1ASYkqrO7rA"
      },
      "source": [
        "**Reading dataset**"
      ]
    },
    {
      "cell_type": "code",
      "execution_count": null,
      "metadata": {
        "id": "5bQUqBnDJU3L"
      },
      "outputs": [],
      "source": [
        "def readwav(dataset):\n",
        "  audio = []\n",
        "  sr = []\n",
        "  for i in range(len(dataset)):\n",
        "    samplerate, data = wavfile.read(dataset[i])\n",
        "    audio.append(data)\n",
        "    sr.append(samplerate)\n",
        "  return audio,sr"
      ]
    },
    {
      "cell_type": "markdown",
      "metadata": {
        "id": "pOvcMCd5PATc"
      },
      "source": [
        "**Extracting mfcc features**"
      ]
    },
    {
      "cell_type": "code",
      "execution_count": null,
      "metadata": {
        "id": "SH7yzGxfJtGx"
      },
      "outputs": [],
      "source": [
        "def get_MFCC(audio, sr):\n",
        "    features = mfcc.mfcc(audio, sr, 0.025, 0.01, 13, appendEnergy = True)\n",
        "    return np.mean(features, axis=0)"
      ]
    },
    {
      "cell_type": "code",
      "execution_count": null,
      "metadata": {
        "id": "T61_KpkJLa6Q"
      },
      "outputs": [],
      "source": [
        "def get_feature(audio,sr):\n",
        "    feature = []\n",
        "    for i in range(len(audio)):\n",
        "        feature.append(get_MFCC(audio[i], sr[i]))\n",
        "    return feature"
      ]
    },
    {
      "cell_type": "code",
      "execution_count": null,
      "metadata": {
        "id": "VVbZS9iXLr_r"
      },
      "outputs": [],
      "source": [
        "X_train = dataset[0:2600]\n",
        "y_train = label[0:2600]\n",
        "X_test = dataset[2601:]\n",
        "y_test = label[2601:]"
      ]
    },
    {
      "cell_type": "code",
      "execution_count": null,
      "metadata": {
        "id": "YySJfKP6MAt_"
      },
      "outputs": [],
      "source": [
        "X_train_audio,X_train_sr = readwav(X_train)\n",
        "X_test_audio,X_test_sr = readwav(X_test)"
      ]
    },
    {
      "cell_type": "code",
      "execution_count": null,
      "metadata": {
        "id": "KCn1mZmFMcTi"
      },
      "outputs": [],
      "source": [
        "X_train = get_feature(X_train_audio, X_train_sr)\n",
        "X_test = get_feature(X_test_audio, X_test_sr)"
      ]
    },
    {
      "cell_type": "code",
      "execution_count": null,
      "metadata": {
        "id": "2E8BZztqMyuJ"
      },
      "outputs": [],
      "source": [
        "X_train = np.array(X_train)\n",
        "X_test = np.array(X_test)\n",
        "y_train = np.array(y_train)\n",
        "y_test = np.array(y_test)"
      ]
    },
    {
      "cell_type": "code",
      "execution_count": null,
      "metadata": {
        "colab": {
          "base_uri": "https://localhost:8080/"
        },
        "id": "96xe6-AqM52b",
        "outputId": "9472fee0-ca4d-4f6d-a1df-2daa7ae40c6c"
      },
      "outputs": [
        {
          "output_type": "stream",
          "name": "stdout",
          "text": [
            "(2600, 13)\n",
            "(2600,)\n",
            "(399, 13)\n",
            "(399,)\n"
          ]
        }
      ],
      "source": [
        "print(X_train.shape)\n",
        "print(y_train.shape)\n",
        "print(X_test.shape)\n",
        "print(y_test.shape)"
      ]
    },
    {
      "cell_type": "markdown",
      "metadata": {
        "id": "Vmr6eV1ePEmc"
      },
      "source": [
        "**Predictions**"
      ]
    },
    {
      "cell_type": "code",
      "execution_count": null,
      "metadata": {
        "id": "1pLAs7T1M7qJ"
      },
      "outputs": [],
      "source": [
        "pred = []\n",
        "for i in range(1,11):\n",
        "  pred.append(KNN(i,X_train,X_test,dist_calculator))"
      ]
    },
    {
      "cell_type": "markdown",
      "metadata": {
        "id": "OK6FTLbnPHfO"
      },
      "source": [
        "**Results**"
      ]
    },
    {
      "cell_type": "code",
      "execution_count": null,
      "metadata": {
        "id": "Sj05Y_k7NLhQ"
      },
      "outputs": [],
      "source": [
        "accuracy = []\n",
        "for i in range(10):\n",
        "  accuracy.append(accuracy_score(y_test,pred[i]))"
      ]
    },
    {
      "cell_type": "code",
      "execution_count": null,
      "metadata": {
        "id": "bKh3zwmjNU04"
      },
      "outputs": [],
      "source": [
        "f1 = []\n",
        "for i in range(10):\n",
        "  f1.append(f1_score(y_test, pred[i],  average='macro'))"
      ]
    },
    {
      "cell_type": "code",
      "execution_count": null,
      "metadata": {
        "colab": {
          "base_uri": "https://localhost:8080/",
          "height": 568
        },
        "id": "J7iEDk5T6RL4",
        "outputId": "8589e175-0021-4990-c208-7632a8cf7885"
      },
      "outputs": [
        {
          "output_type": "display_data",
          "data": {
            "text/plain": [
              "<Figure size 864x576 with 1 Axes>"
            ],
            "image/png": "[encoded data removed]"
          },
          "metadata": {}
        }
      ],
      "source": [
        "barWidth = 0.25\n",
        "fig = plt.subplots(figsize =(12, 8))\n",
        " \n",
        "# Set position of bar on X axis\n",
        "br1 = np.arange(len(accuracy))\n",
        "br2 = [x + barWidth for x in br1]\n",
        "br3 = [x + barWidth for x in br2]\n",
        "\n",
        "# Make the plot\n",
        "plt.bar(br1, accuracy, color ='r', width = 0.15,\n",
        "        edgecolor ='grey', label ='accuracy')\n",
        "\n",
        "plt.bar(br2, f1, color ='g', width = 0.15,\n",
        "        edgecolor ='grey', label ='f1 score')\n",
        " \n",
        "# Adding Xticks\n",
        "plt.xlabel('Value of K', fontweight ='bold', fontsize = 15)\n",
        "plt.ylabel('Accuracy And F1 score', fontweight ='bold', fontsize = 15)\n",
        "plt.xticks([r + barWidth for r in range(len(accuracy))],\n",
        "        ['1', '2', '3', '4', '5', '6', '7', '8', '9', '10'], fontsize=20)\n",
        " \n",
        "\n",
        "plt.legend(prop={'size':15, 'weight':'bold'}, loc='upper center', bbox_to_anchor =(0.50, 1.15), ncol=3, fancybox=True)\n",
        "plt.show()"
      ]
    }
  ],
  "metadata": {
    "colab": {
      "provenance": []
    },
    "kernelspec": {
      "display_name": "Python 3",
      "name": "python3"
    },
    "language_info": {
      "name": "python"
    }
  },
  "nbformat": 4,
  "nbformat_minor": 0
}